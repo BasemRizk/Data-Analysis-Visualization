{
 "cells": [
  {
   "cell_type": "code",
   "execution_count": 1,
   "id": "30036a4d",
   "metadata": {
    "slideshow": {
     "slide_type": "skip"
    }
   },
   "outputs": [],
   "source": [
    "import pandas as pd\n",
    "import matplotlib.pyplot as plt\n",
    "import numpy as np\n",
    "import seaborn as sb"
   ]
  },
  {
   "cell_type": "code",
   "execution_count": 2,
   "id": "2c0cbf1e",
   "metadata": {
    "slideshow": {
     "slide_type": "skip"
    }
   },
   "outputs": [],
   "source": [
    "df=pd.read_excel(\"Directory.xlsx\")"
   ]
  },
  {
   "cell_type": "code",
   "execution_count": 3,
   "id": "b19b07c7",
   "metadata": {
    "slideshow": {
     "slide_type": "skip"
    }
   },
   "outputs": [
    {
     "data": {
      "text/html": [
       "<div>\n",
       "<style scoped>\n",
       "    .dataframe tbody tr th:only-of-type {\n",
       "        vertical-align: middle;\n",
       "    }\n",
       "\n",
       "    .dataframe tbody tr th {\n",
       "        vertical-align: top;\n",
       "    }\n",
       "\n",
       "    .dataframe thead th {\n",
       "        text-align: right;\n",
       "    }\n",
       "</style>\n",
       "<table border=\"1\" class=\"dataframe\">\n",
       "  <thead>\n",
       "    <tr style=\"text-align: right;\">\n",
       "      <th></th>\n",
       "      <th>Company Name</th>\n",
       "      <th>Prefix</th>\n",
       "      <th>Last</th>\n",
       "      <th>First</th>\n",
       "      <th>Middle</th>\n",
       "      <th>home?</th>\n",
       "      <th>dormotory? (do)</th>\n",
       "      <th>widow?</th>\n",
       "      <th>beds?</th>\n",
       "      <th>r?</th>\n",
       "      <th>occupation</th>\n",
       "      <th>address</th>\n",
       "      <th>white?</th>\n",
       "    </tr>\n",
       "  </thead>\n",
       "  <tbody>\n",
       "    <tr>\n",
       "      <th>0</th>\n",
       "      <td>NaN</td>\n",
       "      <td>NaN</td>\n",
       "      <td>Acourt</td>\n",
       "      <td>Herbert</td>\n",
       "      <td>H.</td>\n",
       "      <td>True</td>\n",
       "      <td>False</td>\n",
       "      <td>False</td>\n",
       "      <td>False</td>\n",
       "      <td>False</td>\n",
       "      <td>NaN</td>\n",
       "      <td>Beverly Heights</td>\n",
       "      <td>True</td>\n",
       "    </tr>\n",
       "    <tr>\n",
       "      <th>1</th>\n",
       "      <td>ADAMS EXPRESS CO.</td>\n",
       "      <td>NaN</td>\n",
       "      <td>McCue</td>\n",
       "      <td>B.</td>\n",
       "      <td>M.</td>\n",
       "      <td>False</td>\n",
       "      <td>False</td>\n",
       "      <td>False</td>\n",
       "      <td>False</td>\n",
       "      <td>False</td>\n",
       "      <td>agent</td>\n",
       "      <td>113 W Main</td>\n",
       "      <td>True</td>\n",
       "    </tr>\n",
       "    <tr>\n",
       "      <th>2</th>\n",
       "      <td>NaN</td>\n",
       "      <td>NaN</td>\n",
       "      <td>Agnor</td>\n",
       "      <td>A.</td>\n",
       "      <td>W.</td>\n",
       "      <td>True</td>\n",
       "      <td>False</td>\n",
       "      <td>False</td>\n",
       "      <td>False</td>\n",
       "      <td>False</td>\n",
       "      <td>carpenter</td>\n",
       "      <td>109 N. Jefferson</td>\n",
       "      <td>True</td>\n",
       "    </tr>\n",
       "    <tr>\n",
       "      <th>3</th>\n",
       "      <td>NaN</td>\n",
       "      <td>NaN</td>\n",
       "      <td>Airey</td>\n",
       "      <td>I.</td>\n",
       "      <td>W.</td>\n",
       "      <td>True</td>\n",
       "      <td>False</td>\n",
       "      <td>False</td>\n",
       "      <td>False</td>\n",
       "      <td>False</td>\n",
       "      <td>carpenter,</td>\n",
       "      <td>713 Maple av</td>\n",
       "      <td>True</td>\n",
       "    </tr>\n",
       "    <tr>\n",
       "      <th>4</th>\n",
       "      <td>NaN</td>\n",
       "      <td>Miss</td>\n",
       "      <td>Airey</td>\n",
       "      <td>Sallie</td>\n",
       "      <td>NaN</td>\n",
       "      <td>True</td>\n",
       "      <td>False</td>\n",
       "      <td>False</td>\n",
       "      <td>False</td>\n",
       "      <td>False</td>\n",
       "      <td>seamstress</td>\n",
       "      <td>8 S. Augusta</td>\n",
       "      <td>True</td>\n",
       "    </tr>\n",
       "  </tbody>\n",
       "</table>\n",
       "</div>"
      ],
      "text/plain": [
       "        Company Name Prefix    Last    First Middle  home?  dormotory? (do)  \\\n",
       "0                NaN    NaN  Acourt  Herbert     H.   True            False   \n",
       "1  ADAMS EXPRESS CO.    NaN   McCue       B.     M.  False            False   \n",
       "2                NaN    NaN   Agnor       A.     W.   True            False   \n",
       "3                NaN    NaN   Airey      I.      W.   True            False   \n",
       "4                NaN   Miss  Airey    Sallie    NaN   True            False   \n",
       "\n",
       "   widow?  beds?     r?  occupation           address  white?  \n",
       "0   False  False  False         NaN   Beverly Heights    True  \n",
       "1   False  False  False       agent        113 W Main    True  \n",
       "2   False  False  False   carpenter  109 N. Jefferson    True  \n",
       "3   False  False  False  carpenter,      713 Maple av    True  \n",
       "4   False  False  False  seamstress      8 S. Augusta    True  "
      ]
     },
     "execution_count": 3,
     "metadata": {},
     "output_type": "execute_result"
    }
   ],
   "source": [
    "df.head()"
   ]
  },
  {
   "cell_type": "code",
   "execution_count": 4,
   "id": "447ecfd0",
   "metadata": {
    "slideshow": {
     "slide_type": "skip"
    }
   },
   "outputs": [
    {
     "data": {
      "text/plain": [
       "(3948, 13)"
      ]
     },
     "execution_count": 4,
     "metadata": {},
     "output_type": "execute_result"
    }
   ],
   "source": [
    "df.shape"
   ]
  },
  {
   "cell_type": "code",
   "execution_count": 5,
   "id": "07aefe4a",
   "metadata": {
    "slideshow": {
     "slide_type": "skip"
    }
   },
   "outputs": [],
   "source": [
    "df1=df.address.value_counts()[:10].to_frame()"
   ]
  },
  {
   "cell_type": "code",
   "execution_count": 6,
   "id": "661707cc",
   "metadata": {
    "slideshow": {
     "slide_type": "skip"
    }
   },
   "outputs": [],
   "source": [
    "a=df1.index.tolist()"
   ]
  },
  {
   "cell_type": "code",
   "execution_count": 7,
   "id": "6abb54e3",
   "metadata": {
    "slideshow": {
     "slide_type": "skip"
    }
   },
   "outputs": [],
   "source": [
    "dfnew=df.loc[df['address'].isin(a)]\n"
   ]
  },
  {
   "cell_type": "code",
   "execution_count": 8,
   "id": "5c276123",
   "metadata": {
    "slideshow": {
     "slide_type": "skip"
    }
   },
   "outputs": [
    {
     "data": {
      "text/plain": [
       "(302, 13)"
      ]
     },
     "execution_count": 8,
     "metadata": {},
     "output_type": "execute_result"
    }
   ],
   "source": [
    "dfnew.shape"
   ]
  },
  {
   "cell_type": "code",
   "execution_count": 12,
   "id": "1d820f5c",
   "metadata": {
    "slideshow": {
     "slide_type": "skip"
    }
   },
   "outputs": [],
   "source": [
    "def Hratiofun(plot, feature):\n",
    "    total = len(feature)\n",
    "    for p in plot.patches:\n",
    "        percentage = '{:.1f}%'.format(100 * p.get_width()/total)\n",
    "        x = p.get_x() + p.get_width()/2\n",
    "        y = p.get_y() + p.get_height()/2\n",
    "        ax.annotate(percentage, (x,y), size = 15)\n",
    "    plt.show()"
   ]
  },
  {
   "cell_type": "code",
   "execution_count": 13,
   "id": "86f2be37",
   "metadata": {
    "slideshow": {
     "slide_type": "skip"
    }
   },
   "outputs": [],
   "source": [
    "#vertical graph ratio function\n",
    "def Vratiofun(plot, feature):\n",
    "    total = len(feature)\n",
    "    for p in plot.patches:\n",
    "        percentage = '{:.1f}%'.format(100 * p.get_height()/total)\n",
    "        x = p.get_x() + p.get_width()/2-.2  \n",
    "        y = p.get_y() + p.get_height()\n",
    "        ax.annotate(percentage, (x,y), size = 15)\n",
    "    plt.show()"
   ]
  },
  {
   "cell_type": "code",
   "execution_count": 14,
   "id": "a0e322db",
   "metadata": {
    "slideshow": {
     "slide_type": "skip"
    }
   },
   "outputs": [],
   "source": [
    "color = sb.color_palette()[0]\n"
   ]
  },
  {
   "cell_type": "code",
   "execution_count": 15,
   "id": "a65c642a",
   "metadata": {
    "slideshow": {
     "slide_type": "slide"
    }
   },
   "outputs": [
    {
     "data": {
      "image/png": "[encoded data removed]",
      "text/plain": [
       "<Figure size 720x720 with 1 Axes>"
      ]
     },
     "metadata": {
      "needs_background": "light"
     },
     "output_type": "display_data"
    }
   ],
   "source": [
    "plt.figure(figsize=(10,10))\n",
    "ax=sb.countplot(data=dfnew,y='address',color=color,order=a)\n",
    "plt.xlabel(\"Count\",fontsize=12)\n",
    "plt.ylabel(\"Top 10 Addresses\" ,fontsize=12)\n",
    "plt.title(\"10 most common roads to live on \",fontsize=20)\n",
    "Hratiofun(ax,dfnew.address)"
   ]
  },
  {
   "cell_type": "code",
   "execution_count": 16,
   "id": "72e15c14",
   "metadata": {
    "slideshow": {
     "slide_type": "skip"
    }
   },
   "outputs": [],
   "source": [
    "df2=df.Last.value_counts()[:10].to_frame()"
   ]
  },
  {
   "cell_type": "code",
   "execution_count": 17,
   "id": "a22c7504",
   "metadata": {
    "slideshow": {
     "slide_type": "skip"
    }
   },
   "outputs": [],
   "source": [
    "b=df2.index.tolist()"
   ]
  },
  {
   "cell_type": "code",
   "execution_count": 18,
   "id": "f3b42fdb",
   "metadata": {
    "slideshow": {
     "slide_type": "skip"
    }
   },
   "outputs": [],
   "source": [
    "dflast=df.loc[df['Last'].isin(b)]"
   ]
  },
  {
   "cell_type": "code",
   "execution_count": 19,
   "id": "d02151a2",
   "metadata": {
    "slideshow": {
     "slide_type": "slide"
    }
   },
   "outputs": [
    {
     "data": {
      "image/png": "[encoded data removed]",
      "text/plain": [
       "<Figure size 720x720 with 1 Axes>"
      ]
     },
     "metadata": {
      "needs_background": "light"
     },
     "output_type": "display_data"
    }
   ],
   "source": [
    "plt.figure(figsize=(10,10))\n",
    "ax=sb.countplot(data=dflast,y='Last',color=color,order=b)\n",
    "plt.xlabel(\"Count \",fontsize=12)\n",
    "plt.ylabel(\"Top 10 Last names\",fontsize=12)\n",
    "plt.title(\"- 10 most common last names \",fontsize=20)\n",
    "Hratiofun(ax,dflast.Last)"
   ]
  },
  {
   "cell_type": "code",
   "execution_count": 20,
   "id": "c8b5cac3",
   "metadata": {
    "slideshow": {
     "slide_type": "skip"
    }
   },
   "outputs": [
    {
     "name": "stderr",
     "output_type": "stream",
     "text": [
      "<ipython-input-20-16e903396c72>:3: FutureWarning: The default value of regex will change from True to False in a future version. In addition, single character regular expressions will*not* be treated as literal strings when regex=True.\n",
      "  df['occupation']=df['occupation'].str.replace('.', '')\n"
     ]
    }
   ],
   "source": [
    "df['occupation']=df['occupation'].str.replace(',', '')\n",
    "df['occupation']=df['occupation'].str.replace(' ', '')\n",
    "df['occupation']=df['occupation'].str.replace('.', '')"
   ]
  },
  {
   "cell_type": "code",
   "execution_count": 21,
   "id": "fbbdb33c",
   "metadata": {
    "slideshow": {
     "slide_type": "skip"
    }
   },
   "outputs": [],
   "source": [
    "dfwest=df[df['address']=='Western State Lunatic Asylum']"
   ]
  },
  {
   "cell_type": "code",
   "execution_count": 22,
   "id": "c875ee9b",
   "metadata": {
    "slideshow": {
     "slide_type": "skip"
    }
   },
   "outputs": [],
   "source": [
    "dfwest=dfwest.occupation.value_counts().to_frame()"
   ]
  },
  {
   "cell_type": "code",
   "execution_count": 23,
   "id": "b40a68c9",
   "metadata": {
    "slideshow": {
     "slide_type": "skip"
    }
   },
   "outputs": [
    {
     "data": {
      "text/plain": [
       "Index(['attendant', 'seamstress', 'laundress', 'assthousekeeper',\n",
       "       'femalephysician', 'farmer', 'gardener', 'baker'],\n",
       "      dtype='object')"
      ]
     },
     "execution_count": 23,
     "metadata": {},
     "output_type": "execute_result"
    }
   ],
   "source": [
    "dfwest['occupation'].index"
   ]
  },
  {
   "cell_type": "code",
   "execution_count": 24,
   "id": "7f8fd753",
   "metadata": {
    "slideshow": {
     "slide_type": "skip"
    }
   },
   "outputs": [],
   "source": [
    "labels=dfwest.index"
   ]
  },
  {
   "cell_type": "code",
   "execution_count": 25,
   "id": "938706ed",
   "metadata": {
    "slideshow": {
     "slide_type": "skip"
    }
   },
   "outputs": [],
   "source": [
    "data=dfwest.occupation"
   ]
  },
  {
   "cell_type": "code",
   "execution_count": 26,
   "id": "f0bba7d8",
   "metadata": {
    "slideshow": {
     "slide_type": "skip"
    }
   },
   "outputs": [],
   "source": [
    "colors = sb.color_palette('pastel')[0:6]\n"
   ]
  },
  {
   "cell_type": "code",
   "execution_count": 27,
   "id": "69d12ff4",
   "metadata": {
    "scrolled": true,
    "slideshow": {
     "slide_type": "slide"
    }
   },
   "outputs": [
    {
     "data": {
      "text/plain": [
       "Text(0.5, 1.0, 'Pie chart of the percentages of different jobs at Western State Lunatic Asylum')"
      ]
     },
     "execution_count": 27,
     "metadata": {},
     "output_type": "execute_result"
    },
    {
     "data": {
      "image/png": "[encoded data removed]",
      "text/plain": [
       "<Figure size 720x720 with 1 Axes>"
      ]
     },
     "metadata": {},
     "output_type": "display_data"
    }
   ],
   "source": [
    "plt.figure(figsize=(10,10))\n",
    "ax=plt.pie(data, labels = labels, colors = colors, autopct='%.0f%%')\n",
    "plt.title(\"Pie chart of the percentages of different jobs at Western State Lunatic Asylum\",fontsize=20)"
   ]
  },
  {
   "cell_type": "code",
   "execution_count": 28,
   "id": "e139c853",
   "metadata": {
    "slideshow": {
     "slide_type": "skip"
    }
   },
   "outputs": [
    {
     "data": {
      "text/plain": [
       "Company Name       3566\n",
       "Prefix             3001\n",
       "Last                 22\n",
       "First                38\n",
       "Middle             2337\n",
       "home?                 0\n",
       "dormotory? (do)       0\n",
       "widow?                0\n",
       "beds?                 0\n",
       "r?                    0\n",
       "occupation         1296\n",
       "address              98\n",
       "white?                0\n",
       "dtype: int64"
      ]
     },
     "execution_count": 28,
     "metadata": {},
     "output_type": "execute_result"
    }
   ],
   "source": [
    "df.isna().sum()"
   ]
  },
  {
   "cell_type": "code",
   "execution_count": 29,
   "id": "01db99a3",
   "metadata": {
    "slideshow": {
     "slide_type": "skip"
    }
   },
   "outputs": [],
   "source": [
    "dfwhite=df[df['white?']==True].occupation.value_counts()[:10].to_frame()"
   ]
  },
  {
   "cell_type": "code",
   "execution_count": 30,
   "id": "0892b751",
   "metadata": {
    "slideshow": {
     "slide_type": "skip"
    }
   },
   "outputs": [],
   "source": [
    "x=df[df['white?']==True]"
   ]
  },
  {
   "cell_type": "code",
   "execution_count": 31,
   "id": "096aea7e",
   "metadata": {
    "slideshow": {
     "slide_type": "skip"
    }
   },
   "outputs": [],
   "source": [
    "windex=dfwhite.index.tolist()"
   ]
  },
  {
   "cell_type": "code",
   "execution_count": 32,
   "id": "0f9009af",
   "metadata": {
    "slideshow": {
     "slide_type": "skip"
    }
   },
   "outputs": [],
   "source": [
    "dfwhite1=x.loc[x['occupation'].isin(windex)]"
   ]
  },
  {
   "cell_type": "code",
   "execution_count": 33,
   "id": "f3cc1557",
   "metadata": {
    "slideshow": {
     "slide_type": "skip"
    }
   },
   "outputs": [],
   "source": [
    "dfnwhite=df[df['white?']==False].occupation.value_counts()[:10].to_frame()"
   ]
  },
  {
   "cell_type": "code",
   "execution_count": 34,
   "id": "456e3fd3",
   "metadata": {
    "slideshow": {
     "slide_type": "skip"
    }
   },
   "outputs": [],
   "source": [
    "y=df[df['white?']==False]"
   ]
  },
  {
   "cell_type": "code",
   "execution_count": 35,
   "id": "a1d2e926",
   "metadata": {
    "slideshow": {
     "slide_type": "skip"
    }
   },
   "outputs": [],
   "source": [
    "nwindex=dfnwhite.index.tolist()"
   ]
  },
  {
   "cell_type": "code",
   "execution_count": 36,
   "id": "da82be46",
   "metadata": {
    "slideshow": {
     "slide_type": "skip"
    }
   },
   "outputs": [],
   "source": [
    "dfnwhite1=y.loc[y['occupation'].isin(nwindex)]"
   ]
  },
  {
   "cell_type": "code",
   "execution_count": 37,
   "id": "cc8fcae5",
   "metadata": {
    "slideshow": {
     "slide_type": "skip"
    }
   },
   "outputs": [
    {
     "data": {
      "text/html": [
       "<div>\n",
       "<style scoped>\n",
       "    .dataframe tbody tr th:only-of-type {\n",
       "        vertical-align: middle;\n",
       "    }\n",
       "\n",
       "    .dataframe tbody tr th {\n",
       "        vertical-align: top;\n",
       "    }\n",
       "\n",
       "    .dataframe thead th {\n",
       "        text-align: right;\n",
       "    }\n",
       "</style>\n",
       "<table border=\"1\" class=\"dataframe\">\n",
       "  <thead>\n",
       "    <tr style=\"text-align: right;\">\n",
       "      <th></th>\n",
       "      <th>Company Name</th>\n",
       "      <th>Prefix</th>\n",
       "      <th>Last</th>\n",
       "      <th>First</th>\n",
       "      <th>Middle</th>\n",
       "      <th>home?</th>\n",
       "      <th>dormotory? (do)</th>\n",
       "      <th>widow?</th>\n",
       "      <th>beds?</th>\n",
       "      <th>r?</th>\n",
       "      <th>occupation</th>\n",
       "      <th>address</th>\n",
       "      <th>white?</th>\n",
       "    </tr>\n",
       "  </thead>\n",
       "  <tbody>\n",
       "    <tr>\n",
       "      <th>2</th>\n",
       "      <td>NaN</td>\n",
       "      <td>NaN</td>\n",
       "      <td>Agnor</td>\n",
       "      <td>A.</td>\n",
       "      <td>W.</td>\n",
       "      <td>True</td>\n",
       "      <td>False</td>\n",
       "      <td>False</td>\n",
       "      <td>False</td>\n",
       "      <td>False</td>\n",
       "      <td>carpenter</td>\n",
       "      <td>109 N. Jefferson</td>\n",
       "      <td>True</td>\n",
       "    </tr>\n",
       "    <tr>\n",
       "      <th>3</th>\n",
       "      <td>NaN</td>\n",
       "      <td>NaN</td>\n",
       "      <td>Airey</td>\n",
       "      <td>I.</td>\n",
       "      <td>W.</td>\n",
       "      <td>True</td>\n",
       "      <td>False</td>\n",
       "      <td>False</td>\n",
       "      <td>False</td>\n",
       "      <td>False</td>\n",
       "      <td>carpenter</td>\n",
       "      <td>713 Maple av</td>\n",
       "      <td>True</td>\n",
       "    </tr>\n",
       "    <tr>\n",
       "      <th>9</th>\n",
       "      <td>NaN</td>\n",
       "      <td>NaN</td>\n",
       "      <td>Alexander</td>\n",
       "      <td>George</td>\n",
       "      <td>NaN</td>\n",
       "      <td>True</td>\n",
       "      <td>False</td>\n",
       "      <td>False</td>\n",
       "      <td>False</td>\n",
       "      <td>False</td>\n",
       "      <td>painter</td>\n",
       "      <td>201 Stalford</td>\n",
       "      <td>True</td>\n",
       "    </tr>\n",
       "    <tr>\n",
       "      <th>13</th>\n",
       "      <td>NaN</td>\n",
       "      <td>NaN</td>\n",
       "      <td>Alexander</td>\n",
       "      <td>William</td>\n",
       "      <td>NaN</td>\n",
       "      <td>True</td>\n",
       "      <td>False</td>\n",
       "      <td>False</td>\n",
       "      <td>False</td>\n",
       "      <td>False</td>\n",
       "      <td>painter</td>\n",
       "      <td>201 Stafford</td>\n",
       "      <td>True</td>\n",
       "    </tr>\n",
       "    <tr>\n",
       "      <th>19</th>\n",
       "      <td>NaN</td>\n",
       "      <td>NaN</td>\n",
       "      <td>Allman</td>\n",
       "      <td>J.</td>\n",
       "      <td>L.</td>\n",
       "      <td>True</td>\n",
       "      <td>False</td>\n",
       "      <td>False</td>\n",
       "      <td>False</td>\n",
       "      <td>False</td>\n",
       "      <td>printer</td>\n",
       "      <td>902 W. Main</td>\n",
       "      <td>True</td>\n",
       "    </tr>\n",
       "    <tr>\n",
       "      <th>...</th>\n",
       "      <td>...</td>\n",
       "      <td>...</td>\n",
       "      <td>...</td>\n",
       "      <td>...</td>\n",
       "      <td>...</td>\n",
       "      <td>...</td>\n",
       "      <td>...</td>\n",
       "      <td>...</td>\n",
       "      <td>...</td>\n",
       "      <td>...</td>\n",
       "      <td>...</td>\n",
       "      <td>...</td>\n",
       "      <td>...</td>\n",
       "    </tr>\n",
       "    <tr>\n",
       "      <th>2826</th>\n",
       "      <td>NaN</td>\n",
       "      <td>Mrs.</td>\n",
       "      <td>Yeago</td>\n",
       "      <td>M.</td>\n",
       "      <td>E.</td>\n",
       "      <td>True</td>\n",
       "      <td>False</td>\n",
       "      <td>False</td>\n",
       "      <td>False</td>\n",
       "      <td>False</td>\n",
       "      <td>dressmaker</td>\n",
       "      <td>408 Reservoir</td>\n",
       "      <td>True</td>\n",
       "    </tr>\n",
       "    <tr>\n",
       "      <th>2827</th>\n",
       "      <td>NaN</td>\n",
       "      <td>NaN</td>\n",
       "      <td>Yeago</td>\n",
       "      <td>W.</td>\n",
       "      <td>H.</td>\n",
       "      <td>True</td>\n",
       "      <td>False</td>\n",
       "      <td>False</td>\n",
       "      <td>False</td>\n",
       "      <td>False</td>\n",
       "      <td>carpenter</td>\n",
       "      <td>1034 King</td>\n",
       "      <td>True</td>\n",
       "    </tr>\n",
       "    <tr>\n",
       "      <th>2841</th>\n",
       "      <td>NaN</td>\n",
       "      <td>NaN</td>\n",
       "      <td>Young</td>\n",
       "      <td>L.</td>\n",
       "      <td>D.</td>\n",
       "      <td>True</td>\n",
       "      <td>False</td>\n",
       "      <td>False</td>\n",
       "      <td>False</td>\n",
       "      <td>False</td>\n",
       "      <td>clerk</td>\n",
       "      <td>Middlebrook rd</td>\n",
       "      <td>True</td>\n",
       "    </tr>\n",
       "    <tr>\n",
       "      <th>2846</th>\n",
       "      <td>NaN</td>\n",
       "      <td>NaN</td>\n",
       "      <td>Young</td>\n",
       "      <td>William</td>\n",
       "      <td>NaN</td>\n",
       "      <td>True</td>\n",
       "      <td>False</td>\n",
       "      <td>False</td>\n",
       "      <td>False</td>\n",
       "      <td>False</td>\n",
       "      <td>clerk</td>\n",
       "      <td>Greenville av</td>\n",
       "      <td>True</td>\n",
       "    </tr>\n",
       "    <tr>\n",
       "      <th>2847</th>\n",
       "      <td>NaN</td>\n",
       "      <td>NaN</td>\n",
       "      <td>Zirkle</td>\n",
       "      <td>C.</td>\n",
       "      <td>K.</td>\n",
       "      <td>True</td>\n",
       "      <td>False</td>\n",
       "      <td>False</td>\n",
       "      <td>False</td>\n",
       "      <td>False</td>\n",
       "      <td>clerk</td>\n",
       "      <td>401 W. Johnson</td>\n",
       "      <td>True</td>\n",
       "    </tr>\n",
       "  </tbody>\n",
       "</table>\n",
       "<p>546 rows × 13 columns</p>\n",
       "</div>"
      ],
      "text/plain": [
       "     Company Name Prefix       Last     First Middle  home?  dormotory? (do)  \\\n",
       "2             NaN    NaN      Agnor        A.     W.   True            False   \n",
       "3             NaN    NaN      Airey       I.      W.   True            False   \n",
       "9             NaN    NaN  Alexander    George    NaN   True            False   \n",
       "13            NaN    NaN  Alexander   William    NaN   True            False   \n",
       "19            NaN    NaN     Allman        J.     L.   True            False   \n",
       "...           ...    ...        ...       ...    ...    ...              ...   \n",
       "2826          NaN  Mrs.       Yeago       M.      E.   True            False   \n",
       "2827          NaN    NaN     Yeago        W.     H.    True            False   \n",
       "2841          NaN    NaN     Young        L.      D.   True            False   \n",
       "2846          NaN    NaN     Young   William     NaN   True            False   \n",
       "2847          NaN    NaN    Zirkle        C.      K.   True            False   \n",
       "\n",
       "      widow?  beds?     r?  occupation           address  white?  \n",
       "2      False  False  False   carpenter  109 N. Jefferson    True  \n",
       "3      False  False  False   carpenter      713 Maple av    True  \n",
       "9      False  False  False     painter      201 Stalford    True  \n",
       "13     False  False  False     painter      201 Stafford    True  \n",
       "19     False  False  False     printer       902 W. Main    True  \n",
       "...      ...    ...    ...         ...               ...     ...  \n",
       "2826   False  False  False  dressmaker     408 Reservoir    True  \n",
       "2827   False  False  False   carpenter         1034 King    True  \n",
       "2841   False  False  False       clerk    Middlebrook rd    True  \n",
       "2846   False  False  False       clerk     Greenville av    True  \n",
       "2847   False  False  False       clerk    401 W. Johnson    True  \n",
       "\n",
       "[546 rows x 13 columns]"
      ]
     },
     "execution_count": 37,
     "metadata": {},
     "output_type": "execute_result"
    }
   ],
   "source": [
    "dfwhite1"
   ]
  },
  {
   "cell_type": "code",
   "execution_count": 38,
   "id": "308e430c",
   "metadata": {
    "scrolled": true,
    "slideshow": {
     "slide_type": "slide"
    }
   },
   "outputs": [
    {
     "data": {
      "image/png": "[encoded data removed]",
      "text/plain": [
       "<Figure size 1440x720 with 2 Axes>"
      ]
     },
     "metadata": {
      "needs_background": "light"
     },
     "output_type": "display_data"
    }
   ],
   "source": [
    "plt.figure(figsize=(20,10))\n",
    "plt.subplot(1,2,1)\n",
    "plt.suptitle(\"- Comparison of the the 10 most common occupations between white and non white residents\",fontsize=20)\n",
    "ax=sb.countplot(data=dfwhite1,y='occupation',color=color,order=windex)\n",
    "plt.xlabel(\"white percentage  \",fontsize=10)\n",
    "plt.ylabel(\"Top 10 Occupations\",fontsize=10)\n",
    "plt.title(\"10 most common occupations for white \",fontsize=14)\n",
    "plt.subplot(1,2,2)\n",
    "ax=sb.countplot(data=dfnwhite1,y='occupation',color=color,order=nwindex)\n",
    "plt.xlabel(\"non white percentages \",fontsize=10)\n",
    "plt.ylabel(\"Top 10 occupations\",fontsize=10)\n",
    "plt.title(\"10 most common occupations for non white \",fontsize=14)\n",
    "plt.show()"
   ]
  },
  {
   "cell_type": "code",
   "execution_count": 39,
   "id": "c479aa2a",
   "metadata": {
    "slideshow": {
     "slide_type": "skip"
    }
   },
   "outputs": [],
   "source": [
    "#plt.figure(figsize=(10,10))\n",
    "#ax=sb.countplot(data=dfnwhite1,y='occupation',color=color,order=nwindex)\n",
    "#plt.xlabel(\"non white percentages \")\n",
    "#plt.ylabel(\"Top 10 occupations\")\n",
    "#plt.title(\"10 most common occupations for non white \")\n",
    "#Hratiofun(ax,dfnwhite1.occupation)"
   ]
  },
  {
   "cell_type": "code",
   "execution_count": 40,
   "id": "3667c13a",
   "metadata": {
    "slideshow": {
     "slide_type": "skip"
    }
   },
   "outputs": [
    {
     "data": {
      "text/html": [
       "<div>\n",
       "<style scoped>\n",
       "    .dataframe tbody tr th:only-of-type {\n",
       "        vertical-align: middle;\n",
       "    }\n",
       "\n",
       "    .dataframe tbody tr th {\n",
       "        vertical-align: top;\n",
       "    }\n",
       "\n",
       "    .dataframe thead th {\n",
       "        text-align: right;\n",
       "    }\n",
       "</style>\n",
       "<table border=\"1\" class=\"dataframe\">\n",
       "  <thead>\n",
       "    <tr style=\"text-align: right;\">\n",
       "      <th></th>\n",
       "      <th>Company Name</th>\n",
       "      <th>Prefix</th>\n",
       "      <th>Last</th>\n",
       "      <th>First</th>\n",
       "      <th>Middle</th>\n",
       "      <th>home?</th>\n",
       "      <th>dormotory? (do)</th>\n",
       "      <th>widow?</th>\n",
       "      <th>beds?</th>\n",
       "      <th>r?</th>\n",
       "      <th>occupation</th>\n",
       "      <th>address</th>\n",
       "      <th>white?</th>\n",
       "    </tr>\n",
       "  </thead>\n",
       "  <tbody>\n",
       "    <tr>\n",
       "      <th>0</th>\n",
       "      <td>NaN</td>\n",
       "      <td>NaN</td>\n",
       "      <td>Acourt</td>\n",
       "      <td>Herbert</td>\n",
       "      <td>H.</td>\n",
       "      <td>True</td>\n",
       "      <td>False</td>\n",
       "      <td>False</td>\n",
       "      <td>False</td>\n",
       "      <td>False</td>\n",
       "      <td>NaN</td>\n",
       "      <td>Beverly Heights</td>\n",
       "      <td>True</td>\n",
       "    </tr>\n",
       "    <tr>\n",
       "      <th>1</th>\n",
       "      <td>ADAMS EXPRESS CO.</td>\n",
       "      <td>NaN</td>\n",
       "      <td>McCue</td>\n",
       "      <td>B.</td>\n",
       "      <td>M.</td>\n",
       "      <td>False</td>\n",
       "      <td>False</td>\n",
       "      <td>False</td>\n",
       "      <td>False</td>\n",
       "      <td>False</td>\n",
       "      <td>agent</td>\n",
       "      <td>113 W Main</td>\n",
       "      <td>True</td>\n",
       "    </tr>\n",
       "    <tr>\n",
       "      <th>2</th>\n",
       "      <td>NaN</td>\n",
       "      <td>NaN</td>\n",
       "      <td>Agnor</td>\n",
       "      <td>A.</td>\n",
       "      <td>W.</td>\n",
       "      <td>True</td>\n",
       "      <td>False</td>\n",
       "      <td>False</td>\n",
       "      <td>False</td>\n",
       "      <td>False</td>\n",
       "      <td>carpenter</td>\n",
       "      <td>109 N. Jefferson</td>\n",
       "      <td>True</td>\n",
       "    </tr>\n",
       "    <tr>\n",
       "      <th>3</th>\n",
       "      <td>NaN</td>\n",
       "      <td>NaN</td>\n",
       "      <td>Airey</td>\n",
       "      <td>I.</td>\n",
       "      <td>W.</td>\n",
       "      <td>True</td>\n",
       "      <td>False</td>\n",
       "      <td>False</td>\n",
       "      <td>False</td>\n",
       "      <td>False</td>\n",
       "      <td>carpenter</td>\n",
       "      <td>713 Maple av</td>\n",
       "      <td>True</td>\n",
       "    </tr>\n",
       "    <tr>\n",
       "      <th>4</th>\n",
       "      <td>NaN</td>\n",
       "      <td>Miss</td>\n",
       "      <td>Airey</td>\n",
       "      <td>Sallie</td>\n",
       "      <td>NaN</td>\n",
       "      <td>True</td>\n",
       "      <td>False</td>\n",
       "      <td>False</td>\n",
       "      <td>False</td>\n",
       "      <td>False</td>\n",
       "      <td>seamstress</td>\n",
       "      <td>8 S. Augusta</td>\n",
       "      <td>True</td>\n",
       "    </tr>\n",
       "  </tbody>\n",
       "</table>\n",
       "</div>"
      ],
      "text/plain": [
       "        Company Name Prefix    Last    First Middle  home?  dormotory? (do)  \\\n",
       "0                NaN    NaN  Acourt  Herbert     H.   True            False   \n",
       "1  ADAMS EXPRESS CO.    NaN   McCue       B.     M.  False            False   \n",
       "2                NaN    NaN   Agnor       A.     W.   True            False   \n",
       "3                NaN    NaN   Airey      I.      W.   True            False   \n",
       "4                NaN   Miss  Airey    Sallie    NaN   True            False   \n",
       "\n",
       "   widow?  beds?     r?  occupation           address  white?  \n",
       "0   False  False  False         NaN   Beverly Heights    True  \n",
       "1   False  False  False       agent        113 W Main    True  \n",
       "2   False  False  False   carpenter  109 N. Jefferson    True  \n",
       "3   False  False  False   carpenter      713 Maple av    True  \n",
       "4   False  False  False  seamstress      8 S. Augusta    True  "
      ]
     },
     "execution_count": 40,
     "metadata": {},
     "output_type": "execute_result"
    }
   ],
   "source": [
    "df.head()"
   ]
  },
  {
   "cell_type": "code",
   "execution_count": 41,
   "id": "7d57769e",
   "metadata": {
    "slideshow": {
     "slide_type": "skip"
    }
   },
   "outputs": [
    {
     "name": "stderr",
     "output_type": "stream",
     "text": [
      "<ipython-input-41-57f5e5532dc0>:3: FutureWarning: The default value of regex will change from True to False in a future version. In addition, single character regular expressions will*not* be treated as literal strings when regex=True.\n",
      "  df['Prefix']=df['Prefix'].str.replace('.', '')\n"
     ]
    }
   ],
   "source": [
    "df['Prefix']=df['Prefix'].str.replace(',', '')\n",
    "df['Prefix']=df['Prefix'].str.replace(' ', '')\n",
    "df['Prefix']=df['Prefix'].str.replace('.', '')\n",
    "df['Prefix']=df['Prefix'].str.replace('MRS', 'Mrs')\n",
    "df['Prefix']=df['Prefix'].str.replace('MISS', 'Miss')"
   ]
  },
  {
   "cell_type": "code",
   "execution_count": 42,
   "id": "6acee477",
   "metadata": {
    "slideshow": {
     "slide_type": "skip"
    }
   },
   "outputs": [
    {
     "data": {
      "text/plain": [
       "array([nan, 'Miss', 'Mrs', 'AstMrs', 'MES', '', 'Mr',\n",
       "       'EurekaJobPrintingCo', 'FAUVETi', 'Grattan'], dtype=object)"
      ]
     },
     "execution_count": 42,
     "metadata": {},
     "output_type": "execute_result"
    }
   ],
   "source": [
    "df['Prefix'].unique()"
   ]
  },
  {
   "cell_type": "code",
   "execution_count": 43,
   "id": "5a8a579e",
   "metadata": {
    "slideshow": {
     "slide_type": "skip"
    }
   },
   "outputs": [],
   "source": [
    "womendf=df[(df['Prefix']=='Miss') | (df['Prefix']=='Mrs')]"
   ]
  },
  {
   "cell_type": "code",
   "execution_count": 44,
   "id": "d8f4b074",
   "metadata": {
    "slideshow": {
     "slide_type": "skip"
    }
   },
   "outputs": [],
   "source": [
    "data=womendf['widow?'].value_counts().to_frame()"
   ]
  },
  {
   "cell_type": "code",
   "execution_count": 45,
   "id": "40fa2c08",
   "metadata": {
    "slideshow": {
     "slide_type": "skip"
    }
   },
   "outputs": [],
   "source": [
    "data=data['widow?']"
   ]
  },
  {
   "cell_type": "code",
   "execution_count": 46,
   "id": "645cea52",
   "metadata": {
    "slideshow": {
     "slide_type": "slide"
    }
   },
   "outputs": [
    {
     "data": {
      "image/png": "[encoded data removed]",
      "text/plain": [
       "<Figure size 720x720 with 1 Axes>"
      ]
     },
     "metadata": {},
     "output_type": "display_data"
    }
   ],
   "source": [
    "plt.figure(figsize=(10,10))\n",
    "#ax=sb.countplot(data=womendf,x='widow?',color=color)\n",
    "#plt.xlabel(\" widow ?  \")\n",
    "#plt.ylabel(\"Percentage Count\")\n",
    "plt.title(\"Percentage of women (prefix Mrs. or Miss) who were widows as pie chart \",fontsize=20)\n",
    "#Vratiofun(ax,womendf['widow?'])\n",
    "labels=['not widow', 'widow']\n",
    "colors = sb.color_palette('pastel')[0:2]\n",
    "ax=plt.pie(data, labels = labels, colors = colors, autopct='%.0f%%')"
   ]
  },
  {
   "cell_type": "code",
   "execution_count": 47,
   "id": "390fb33f",
   "metadata": {
    "slideshow": {
     "slide_type": "skip"
    }
   },
   "outputs": [],
   "source": [
    "dfhome=df[df['home?']==True]"
   ]
  },
  {
   "cell_type": "code",
   "execution_count": 48,
   "id": "01f7f9d3",
   "metadata": {
    "slideshow": {
     "slide_type": "skip"
    }
   },
   "outputs": [],
   "source": [
    "home1=dfhome['white?'].value_counts().to_frame()"
   ]
  },
  {
   "cell_type": "code",
   "execution_count": 49,
   "id": "f7a130de",
   "metadata": {
    "slideshow": {
     "slide_type": "skip"
    }
   },
   "outputs": [],
   "source": [
    "hindex=home1.index.tolist()"
   ]
  },
  {
   "cell_type": "code",
   "execution_count": 50,
   "id": "627043ca",
   "metadata": {
    "slideshow": {
     "slide_type": "skip"
    }
   },
   "outputs": [],
   "source": [
    "dfhome1=dfhome.loc[dfhome['white?'].isin(hindex)]"
   ]
  },
  {
   "cell_type": "code",
   "execution_count": 51,
   "id": "d9fe2f5a",
   "metadata": {
    "slideshow": {
     "slide_type": "slide"
    }
   },
   "outputs": [
    {
     "data": {
      "image/png": "[encoded data removed]",
      "text/plain": [
       "<Figure size 720x720 with 1 Axes>"
      ]
     },
     "metadata": {
      "needs_background": "light"
     },
     "output_type": "display_data"
    }
   ],
   "source": [
    "plt.figure(figsize=(10,10))\n",
    "ax=sb.countplot(data=dfhome1,x='white?',color=color,order=hindex)\n",
    "plt.xlabel(\"Using Home as primary address  \",fontsize=12)\n",
    "plt.xticks([True , False],['Not White', ' white'])\n",
    "plt.ylabel(\"Percentage Count\",fontsize=12)\n",
    "plt.title(\"Difference between white and non white residents of using home as primary address\",fontsize=20)\n",
    "Vratiofun(ax,dfhome1['white?'])\n",
    "\n"
   ]
  },
  {
   "cell_type": "code",
   "execution_count": 52,
   "id": "d3b0473c",
   "metadata": {
    "slideshow": {
     "slide_type": "skip"
    }
   },
   "outputs": [],
   "source": [
    "dfhome=df[df['home?']==True]"
   ]
  },
  {
   "cell_type": "code",
   "execution_count": 53,
   "id": "b91a13e5",
   "metadata": {
    "slideshow": {
     "slide_type": "skip"
    }
   },
   "outputs": [
    {
     "data": {
      "text/plain": [
       "True     2542\n",
       "False    1075\n",
       "Name: white?, dtype: int64"
      ]
     },
     "execution_count": 53,
     "metadata": {},
     "output_type": "execute_result"
    }
   ],
   "source": [
    "dfhome['white?'].value_counts()"
   ]
  }
 ],
 "metadata": {
  "hide_input": false,
  "kernelspec": {
   "display_name": "Python 3",
   "language": "python",
   "name": "python3"
  },
  "language_info": {
   "codemirror_mode": {
    "name": "ipython",
    "version": 3
   },
   "file_extension": ".py",
   "mimetype": "text/x-python",
   "name": "python",
   "nbconvert_exporter": "python",
   "pygments_lexer": "ipython3",
   "version": "3.8.8"
  }
 },
 "nbformat": 4,
 "nbformat_minor": 5
}
