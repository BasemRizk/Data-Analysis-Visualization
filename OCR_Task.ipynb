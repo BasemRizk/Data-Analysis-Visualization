{
  "nbformat": 4,
  "nbformat_minor": 0,
  "metadata": {
    "colab": {
      "provenance": [],
      "gpuType": "T4",
      "authorship_tag": "ABX9TyO1pFfvxDfE9myUkBQ359oR",
      "include_colab_link": true
    },
    "kernelspec": {
      "name": "python3",
      "display_name": "Python 3"
    },
    "language_info": {
      "name": "python"
    },
    "accelerator": "GPU",
    "gpuClass": "standard"
  },
  "cells": [
    {
      "cell_type": "markdown",
      "metadata": {
        "id": "view-in-github",
        "colab_type": "text"
      },
      "source": [
        "<a href=\"https://colab.research.google.com/github/BasemRizk/Data-Analysis-Visualization/blob/main/OCR_Task.ipynb\" target=\"_parent\"><img src=\"https://colab.research.google.com/assets/colab-badge.svg\" alt=\"Open In Colab\"/></a>"
      ]
    },
    {
      "cell_type": "code",
      "source": [
        "#Import the needed dependincies\n",
        "import os\n",
        "from PIL import Image\n",
        "import matplotlib.pyplot as plt\n",
        "import shutil\n",
        "import numpy as np\n",
        "import cv2\n",
        "from skimage import io, exposure\n",
        "from sklearn.model_selection import train_test_split\n",
        "from keras.models import Sequential\n",
        "from keras.layers import Conv2D, MaxPooling2D, Flatten,Dropout, Dense\n",
        "from keras.utils import to_categorical\n",
        "import tensorflow as tf\n",
        "from keras.models import save_model"
      ],
      "metadata": {
        "id": "X4af7lFm2ic8"
      },
      "execution_count": 30,
      "outputs": []
    },
    {
      "cell_type": "code",
      "source": [
        "np.random.seed(42)\n",
        "tf.random.set_seed(42)"
      ],
      "metadata": {
        "id": "iqNXT60WtKf5"
      },
      "execution_count": 31,
      "outputs": []
    },
    {
      "cell_type": "code",
      "execution_count": 3,
      "metadata": {
        "colab": {
          "base_uri": "https://localhost:8080/"
        },
        "id": "UNKhDpoQUl_X",
        "outputId": "0dfc1f91-73f9-4790-90fd-0b0b422403a0"
      },
      "outputs": [
        {
          "output_type": "stream",
          "name": "stdout",
          "text": [
            "Mounted at /content/drive\n"
          ]
        }
      ],
      "source": [
        "#Mount google drive\n",
        "from google.colab import drive\n",
        "drive.mount('/content/drive')"
      ]
    },
    {
      "cell_type": "code",
      "source": [
        "# Set the name of our new directory\n",
        "IMAGE_DIR='images'\n",
        "# Set the path where we want to create the new directory\n",
        "path = \"/content/drive/My Drive/\" + IMAGE_DIR\n",
        "# Create the directory\n",
        "os.makedirs(path, exist_ok=True)"
      ],
      "metadata": {
        "id": "-unB6mLYc5GN"
      },
      "execution_count": 4,
      "outputs": []
    },
    {
      "cell_type": "code",
      "source": [
        "#Place all images in one folder\n",
        "new_dir = '/content/drive/MyDrive/images'\n",
        "for i in range(0,10):\n",
        "  current_dir = f'/content/drive/MyDrive/freelance/OCR_Task_Digits_Dataset/dataset/{i}'\n",
        "  for filename in os.listdir(current_dir):\n",
        "      if filename.endswith('.png'):\n",
        "          old_path = os.path.join(current_dir, filename)\n",
        "          new_path = os.path.join(new_dir, filename)\n",
        "          shutil.move(old_path, new_path)"
      ],
      "metadata": {
        "id": "B18JIM1ldWPr"
      },
      "execution_count": 5,
      "outputs": []
    },
    {
      "cell_type": "code",
      "source": [
        "#Define the dir_path and img_size\n",
        "dir_path = '/content/drive/MyDrive/images'\n",
        "img_size = (28, 28)"
      ],
      "metadata": {
        "id": "9fVa1bOplrin"
      },
      "execution_count": 6,
      "outputs": []
    },
    {
      "cell_type": "code",
      "source": [
        "#Labeling our images\n",
        "file_names = os.listdir(dir_path)\n",
        "label_dict = {}\n",
        "for file_name in file_names:\n",
        "    if file_name.endswith('.png'):\n",
        "        label = file_name.split('_')[0]\n",
        "        label_dict[file_name] = label"
      ],
      "metadata": {
        "id": "MFSiDlbQuzxO"
      },
      "execution_count": 7,
      "outputs": []
    },
    {
      "cell_type": "code",
      "source": [
        "#Resize Images and convert to np.array\n",
        "images = []\n",
        "labels = []\n",
        "\n",
        "for file_name in file_names:\n",
        "    if file_name.endswith('.png'):\n",
        "        file_path = os.path.join(dir_path, file_name)\n",
        "        image = Image.open(file_path)\n",
        "        image = image.resize(img_size)\n",
        "        image = np.array(image)\n",
        "        images.append(image)\n",
        "        #listing our labels\n",
        "        labels.append(label_dict[file_name])"
      ],
      "metadata": {
        "id": "3rxk4yRjwXEA"
      },
      "execution_count": 8,
      "outputs": []
    },
    {
      "cell_type": "code",
      "source": [
        "print(images[0].shape)\n"
      ],
      "metadata": {
        "colab": {
          "base_uri": "https://localhost:8080/"
        },
        "id": "LpMc84eXxMux",
        "outputId": "79664ffd-2477-4b6b-9b3d-d59823fb4ef5"
      },
      "execution_count": 9,
      "outputs": [
        {
          "output_type": "stream",
          "name": "stdout",
          "text": [
            "(28, 28, 4)\n"
          ]
        }
      ]
    },
    {
      "cell_type": "code",
      "source": [
        "#Convert labels from str to  integers\n",
        "label=[]\n",
        "for l in labels:\n",
        "  label.append(int(l))\n",
        "#convert images and labels lists to np.array\n",
        "images = np.array(images)\n",
        "label = np.array(label)"
      ],
      "metadata": {
        "id": "tucQvUhiyqt2"
      },
      "execution_count": 10,
      "outputs": []
    },
    {
      "cell_type": "code",
      "source": [
        "#Plot random images from our dataset\n",
        "indices = np.random.choice(range(len(images)), replace=False, size=9)\n",
        "selected_images = images[indices]"
      ],
      "metadata": {
        "id": "7Nlf34Ge0yS_"
      },
      "execution_count": 11,
      "outputs": []
    },
    {
      "cell_type": "code",
      "source": [
        "fig, axes = plt.subplots(nrows=3, ncols=3, figsize=(8, 8),\n",
        "                         subplot_kw={'xticks': [], 'yticks': []})\n",
        "\n",
        "for i, ax in enumerate(axes.flat):\n",
        "    ax.imshow(selected_images[i])\n",
        "    ax.set_title(f\"Image {indices[i]}\")\n",
        "\n",
        "plt.tight_layout()\n",
        "plt.show()"
      ],
      "metadata": {
        "colab": {
          "base_uri": "https://localhost:8080/",
          "height": 806
        },
        "id": "MAAhgtbQ1T1Z",
        "outputId": "ef95c254-3bd9-46b3-bac1-26f67ab3990a"
      },
      "execution_count": 12,
      "outputs": [
        {
          "output_type": "display_data",
          "data": {
            "text/plain": [
              "<Figure size 800x800 with 9 Axes>"
            ],
            "image/png": "[encoded data removed]"
          },
          "metadata": {}
        }
      ]
    },
    {
      "cell_type": "code",
      "source": [
        "for i in indices:\n",
        "  print('Image',i ,'Label',label[i])"
      ],
      "metadata": {
        "colab": {
          "base_uri": "https://localhost:8080/"
        },
        "id": "2jvvSBtK1WYt",
        "outputId": "cefff5da-859d-445b-b420-cc7433540247"
      },
      "execution_count": 13,
      "outputs": [
        {
          "output_type": "stream",
          "name": "stdout",
          "text": [
            "Image 480 Label 0\n",
            "Image 313 Label 4\n",
            "Image 360 Label 0\n",
            "Image 158 Label 9\n",
            "Image 243 Label 3\n",
            "Image 416 Label 5\n",
            "Image 67 Label 2\n",
            "Image 533 Label 6\n",
            "Image 839 Label 1\n"
          ]
        }
      ]
    },
    {
      "cell_type": "markdown",
      "source": [
        "PreProcessing"
      ],
      "metadata": {
        "id": "qiBL2YSy11le"
      }
    },
    {
      "cell_type": "code",
      "source": [
        "# Convert the BGRA image to grayscale\n",
        "Gray_Images=[]\n",
        "for img in images:\n",
        "  bgra_img=img\n",
        "  gray_img = cv2.cvtColor(bgra_img, cv2.COLOR_BGRA2GRAY)\n",
        "  Gray_Images.append(gray_img)"
      ],
      "metadata": {
        "id": "_BtWAta6yaRd"
      },
      "execution_count": 14,
      "outputs": []
    },
    {
      "cell_type": "code",
      "source": [
        "#Image Normalization\n",
        "Normalized_Images=[]\n",
        "for img in Gray_Images :\n",
        "# Normalize the pixel valuesfrom the range[0,255] to the range [0, 1] using min-max scaling\n",
        "  normalized_img = exposure.rescale_intensity(img, in_range=(0, 255), out_range=(0, 1))\n",
        "  Normalized_Images.append(normalized_img)\n"
      ],
      "metadata": {
        "id": "fDhKEWD85pQ0"
      },
      "execution_count": 15,
      "outputs": []
    },
    {
      "cell_type": "code",
      "source": [
        "#Contrast Enhancement\n",
        "Enhanced_Images=[]\n",
        "# Load the image as a NumPy array\n",
        "for img in Normalized_Images:\n",
        "  # Apply contrast stretching to enhance the contrast of the image between percentiles (10,90)\n",
        "  p10, p90 = np.percentile(img, (10, 90))\n",
        "  enhanced_img = exposure.rescale_intensity(img, in_range=(p10, p90))\n",
        "  Enhanced_Images.append(enhanced_img)\n"
      ],
      "metadata": {
        "id": "lEGgjuEiDBdf"
      },
      "execution_count": 16,
      "outputs": []
    },
    {
      "cell_type": "code",
      "source": [
        "# Image Binarization\n",
        "import numpy as np\n",
        "Binarized_Images=[]\n",
        "for img in Enhanced_Images:\n",
        "  # Binarize the image using a threshold value of 100\n",
        "  threshold_value = 0.45\n",
        "  max_value = 1\n",
        "  binarized_img = np.where(img < threshold_value, 0, max_value)\n",
        "  Binarized_Images.append(binarized_img)"
      ],
      "metadata": {
        "id": "l_zLdrAk720P"
      },
      "execution_count": 17,
      "outputs": []
    },
    {
      "cell_type": "code",
      "source": [
        "#Convert to np.array\n",
        "Binarized_Images=np.array(Binarized_Images)"
      ],
      "metadata": {
        "id": "EboKpTCcCHO5"
      },
      "execution_count": 18,
      "outputs": []
    },
    {
      "cell_type": "code",
      "source": [
        "Binarized_Images.shape"
      ],
      "metadata": {
        "colab": {
          "base_uri": "https://localhost:8080/"
        },
        "id": "x48jQktwDBGt",
        "outputId": "87065f01-cdc5-4b70-a758-a175b848dc4d"
      },
      "execution_count": 19,
      "outputs": [
        {
          "output_type": "execute_result",
          "data": {
            "text/plain": [
              "(879, 28, 28)"
            ]
          },
          "metadata": {},
          "execution_count": 19
        }
      ]
    },
    {
      "cell_type": "code",
      "source": [
        "#convert string values in the array to int\n",
        "for img in Binarized_Images:\n",
        "  img=img.astype(np.uint8)"
      ],
      "metadata": {
        "id": "hW4oi4WJFZjr"
      },
      "execution_count": 20,
      "outputs": []
    },
    {
      "cell_type": "code",
      "source": [
        "#View Random sample of our dataset after preprocessing \n",
        "selected_imgs=Binarized_Images[indices]\n",
        "fig, axes = plt.subplots(nrows=3, ncols=3, figsize=(8, 8),\n",
        "                         subplot_kw={'xticks': [], 'yticks': []})\n",
        "\n",
        "for i, ax in enumerate(axes.flat):\n",
        "    ax.imshow(selected_imgs[i])\n",
        "    ax.set_title(f\"Image {indices[i]}\")\n",
        "\n",
        "plt.tight_layout()\n",
        "plt.show()"
      ],
      "metadata": {
        "colab": {
          "base_uri": "https://localhost:8080/",
          "height": 806
        },
        "id": "TZYCqewAHXWe",
        "outputId": "75a99a6c-d436-4029-bed4-2c435f47f35b"
      },
      "execution_count": 21,
      "outputs": [
        {
          "output_type": "display_data",
          "data": {
            "text/plain": [
              "<Figure size 800x800 with 9 Axes>"
            ],
            "image/png": "[encoded data removed]"
          },
          "metadata": {}
        }
      ]
    },
    {
      "cell_type": "code",
      "source": [
        "#Print the correct labels for the images of the sample\n",
        "for i in indices:\n",
        "  print('Image',i ,'Label',label[i])"
      ],
      "metadata": {
        "colab": {
          "base_uri": "https://localhost:8080/"
        },
        "id": "YPeWuVgtFjSj",
        "outputId": "ffe29883-0934-46a5-9695-d811df84b91f"
      },
      "execution_count": 22,
      "outputs": [
        {
          "output_type": "stream",
          "name": "stdout",
          "text": [
            "Image 480 Label 0\n",
            "Image 313 Label 4\n",
            "Image 360 Label 0\n",
            "Image 158 Label 9\n",
            "Image 243 Label 3\n",
            "Image 416 Label 5\n",
            "Image 67 Label 2\n",
            "Image 533 Label 6\n",
            "Image 839 Label 1\n"
          ]
        }
      ]
    },
    {
      "cell_type": "code",
      "source": [
        "#Split the images and labels to train and test sets\n",
        "train_images, test_images, train_labels, test_labels = train_test_split(Binarized_Images, label, test_size=0.2, random_state=42)"
      ],
      "metadata": {
        "id": "gST2kMTbgVWA"
      },
      "execution_count": 23,
      "outputs": []
    },
    {
      "cell_type": "code",
      "source": [
        "#reshape train and test sets \n",
        "train_images = train_images.reshape(train_images.shape[0], 28, 28, 1) /1.0\n",
        "test_images = test_images.reshape(test_images.shape[0], 28, 28, 1) /1.0"
      ],
      "metadata": {
        "id": "xWAw9goMhSsE"
      },
      "execution_count": 24,
      "outputs": []
    },
    {
      "cell_type": "code",
      "source": [
        "#Create the CNN Model\n",
        "\n",
        "model = Sequential()\n",
        "model.add(Conv2D(32, (3, 3),strides=(1, 1), padding='same',activation='relu', input_shape=(28, 28, 1)))\n",
        "model.add(MaxPooling2D((2, 2)))\n",
        "model.add(Dropout(0.25))\n",
        "model.add(Conv2D(64, (3, 3),strides=(1, 1), padding='same', activation='relu'))\n",
        "model.add(MaxPooling2D((2, 2)))\n",
        "model.add(Dropout(0.25))\n",
        "model.add(Conv2D(64, (3, 3),strides=(1, 1), padding='same', activation='relu'))\n",
        "model.add(MaxPooling2D((2, 2)))\n",
        "model.add(Dropout(0.25))\n",
        "model.add(Flatten())\n",
        "model.add(Dense(128, activation='relu'))\n",
        "model.add(Dropout(0.25))\n",
        "model.add(Dense(10, activation='softmax'))\n",
        "\n",
        "# Compile the model\n",
        "model.compile(optimizer='adam', loss='sparse_categorical_crossentropy', metrics=['accuracy'])"
      ],
      "metadata": {
        "id": "n6Pv76audZxw"
      },
      "execution_count": 25,
      "outputs": []
    },
    {
      "cell_type": "code",
      "source": [
        "# Train the model\n",
        "model.fit(train_images, train_labels, epochs=10)\n",
        "\n",
        "# Evaluate the model\n",
        "test_loss, test_acc = model.evaluate(test_images, test_labels)\n",
        "print('Test accuracy:', test_acc)"
      ],
      "metadata": {
        "colab": {
          "base_uri": "https://localhost:8080/"
        },
        "id": "cf6qmy1VfSND",
        "outputId": "7e3401bc-3018-46b5-8f85-ef0d7d26896a"
      },
      "execution_count": 26,
      "outputs": [
        {
          "output_type": "stream",
          "name": "stdout",
          "text": [
            "Epoch 1/10\n",
            "22/22 [==============================] - 12s 15ms/step - loss: 2.2904 - accuracy: 0.1280\n",
            "Epoch 2/10\n",
            "22/22 [==============================] - 0s 5ms/step - loss: 2.2510 - accuracy: 0.1878\n",
            "Epoch 3/10\n",
            "22/22 [==============================] - 0s 4ms/step - loss: 2.1439 - accuracy: 0.2560\n",
            "Epoch 4/10\n",
            "22/22 [==============================] - 0s 4ms/step - loss: 1.7634 - accuracy: 0.4011\n",
            "Epoch 5/10\n",
            "22/22 [==============================] - 0s 4ms/step - loss: 1.1974 - accuracy: 0.6174\n",
            "Epoch 6/10\n",
            "22/22 [==============================] - 0s 4ms/step - loss: 0.8516 - accuracy: 0.7183\n",
            "Epoch 7/10\n",
            "22/22 [==============================] - 0s 4ms/step - loss: 0.5777 - accuracy: 0.8151\n",
            "Epoch 8/10\n",
            "22/22 [==============================] - 0s 5ms/step - loss: 0.4923 - accuracy: 0.8236\n",
            "Epoch 9/10\n",
            "22/22 [==============================] - 0s 4ms/step - loss: 0.3882 - accuracy: 0.8890\n",
            "Epoch 10/10\n",
            "22/22 [==============================] - 0s 4ms/step - loss: 0.3317 - accuracy: 0.8819\n",
            "6/6 [==============================] - 0s 25ms/step - loss: 0.3715 - accuracy: 0.9091\n",
            "Test accuracy: 0.9090909361839294\n"
          ]
        }
      ]
    },
    {
      "cell_type": "code",
      "source": [
        "#take a random sample of test set\n",
        "indices = np.random.choice(range(len(test_images)), replace=False, size=10)"
      ],
      "metadata": {
        "id": "rNIqKjVw6xcO"
      },
      "execution_count": 27,
      "outputs": []
    },
    {
      "cell_type": "code",
      "source": [
        "#View an image from test set\n",
        "io.imshow(test_images[indices[0]]/1.0)"
      ],
      "metadata": {
        "colab": {
          "base_uri": "https://localhost:8080/",
          "height": 504
        },
        "id": "PisXdwzsh1To",
        "outputId": "d9a45b31-7e20-47df-c254-6f659e8ed022"
      },
      "execution_count": 28,
      "outputs": [
        {
          "output_type": "execute_result",
          "data": {
            "text/plain": [
              "<matplotlib.image.AxesImage at 0x7f678fbdb1f0>"
            ]
          },
          "metadata": {},
          "execution_count": 28
        },
        {
          "output_type": "display_data",
          "data": {
            "text/plain": [
              "<Figure size 640x480 with 1 Axes>"
            ],
            "image/png": "[encoded data removed]"
          },
          "metadata": {}
        }
      ]
    },
    {
      "cell_type": "code",
      "source": [
        "#Print the predicted and Actual results of testset sample\n",
        "for i in indices:\n",
        "  predicted_image=test_images[i]\n",
        "  image_reshaped=np.reshape(predicted_image,[1,28,28])\n",
        "  input_prediction=model.predict(image_reshaped)\n",
        "  predicted_label=np.argmax(input_prediction)\n",
        "  print('Predicted Digit is ',predicted_label, 'Actual Digit is',test_labels[i])"
      ],
      "metadata": {
        "colab": {
          "base_uri": "https://localhost:8080/"
        },
        "id": "4EpUuh6A5SPd",
        "outputId": "cc50d27b-433e-4e95-a554-04caeedeae93"
      },
      "execution_count": 29,
      "outputs": [
        {
          "output_type": "stream",
          "name": "stdout",
          "text": [
            "1/1 [==============================] - 0s 177ms/step\n",
            "Predicted Digit is  6 Actual Digit is 6\n",
            "1/1 [==============================] - 0s 17ms/step\n",
            "Predicted Digit is  4 Actual Digit is 4\n",
            "1/1 [==============================] - 0s 20ms/step\n",
            "Predicted Digit is  3 Actual Digit is 3\n",
            "1/1 [==============================] - 0s 18ms/step\n",
            "Predicted Digit is  3 Actual Digit is 3\n",
            "1/1 [==============================] - 0s 22ms/step\n",
            "Predicted Digit is  2 Actual Digit is 2\n",
            "1/1 [==============================] - 0s 56ms/step\n",
            "Predicted Digit is  0 Actual Digit is 0\n",
            "1/1 [==============================] - 0s 91ms/step\n",
            "Predicted Digit is  3 Actual Digit is 3\n",
            "1/1 [==============================] - 0s 31ms/step\n",
            "Predicted Digit is  0 Actual Digit is 0\n",
            "1/1 [==============================] - 0s 21ms/step\n",
            "Predicted Digit is  8 Actual Digit is 6\n",
            "1/1 [==============================] - 0s 19ms/step\n",
            "Predicted Digit is  0 Actual Digit is 0\n"
          ]
        }
      ]
    },
    {
      "cell_type": "code",
      "source": [
        "save_model(model,'DigitOCR.h5')"
      ],
      "metadata": {
        "id": "PMt3uYlnr2lE"
      },
      "execution_count": 32,
      "outputs": []
    },
    {
      "cell_type": "code",
      "source": [],
      "metadata": {
        "id": "yLOwxCJVuFCA"
      },
      "execution_count": null,
      "outputs": []
    }
  ]
}